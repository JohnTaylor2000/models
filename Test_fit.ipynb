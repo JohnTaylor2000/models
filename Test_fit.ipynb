{
  "nbformat": 4,
  "nbformat_minor": 0,
  "metadata": {
    "colab": {
      "name": "Test_fit.ipynb",
      "provenance": [],
      "private_outputs": true,
      "collapsed_sections": [],
      "authorship_tag": "ABX9TyOAzSDS8xjQS2Ko+avk2/F0",
      "include_colab_link": true
    },
    "kernelspec": {
      "name": "python3",
      "display_name": "Python 3"
    },
    "accelerator": "GPU"
  },
  "cells": [
    {
      "cell_type": "markdown",
      "metadata": {
        "id": "view-in-github",
        "colab_type": "text"
      },
      "source": [
        "<a href=\"https://colab.research.google.com/github/JohnTaylor2000/models/blob/master/Test_fit.ipynb\" target=\"_parent\"><img src=\"https://colab.research.google.com/assets/colab-badge.svg\" alt=\"Open In Colab\"/></a>"
      ]
    },
    {
      "cell_type": "markdown",
      "metadata": {
        "id": "qc0DCYJe35sG",
        "colab_type": "text"
      },
      "source": [
        "**Explore the Universal approximation Theorem by fitting a range of functions using a neural network. We also explore extrapolation i.e. beyond the range of data used to fit the model** **also known as the ability to generalise.**\n",
        "\n",
        "Author: John Taylor 07/2020\n",
        "\n",
        "Here we demonstrate that a neural network has the potential to fit any function. Examples use different functions of increasing complexity.\n",
        "\n",
        "We also investigate extrapolation and the role of the activation function in extrapolation. You will find that the activation function largely determines the fit to extrapolations beyond the training range.\n",
        "\n",
        "You can easily vary the number of layers and hidden units to explore the role these play in training a model of increasing complexity.\n",
        "\n",
        "The impact of key parameters on the computation time, such as the batch size and the number of hidden units can also be investigated. The batch size can be increased to match the Epoch size so that the fit is not stochastic.\n",
        "\n",
        "Running with and without a GPU/TPU makes a big difference to training times. We also illustrate how you can add timers to code in addition to what is currently available. \n"
      ]
    },
    {
      "cell_type": "markdown",
      "metadata": {
        "id": "Su-pS8sJ4nE4",
        "colab_type": "text"
      },
      "source": [
        "Start by loading **Nvidia GPU environment variables** that suppress warning messages. Only needed when running on nvidia GPUs."
      ]
    },
    {
      "cell_type": "code",
      "metadata": {
        "id": "Jyzvg_Cy3slC",
        "colab_type": "code",
        "colab": {}
      },
      "source": [
        "import os\n",
        "os.environ[\"TF_DISABLE_NVTX_RANGES\"] = \"1\"\n",
        "os.environ[\"TF_CPP_MIN_LOG_LEVEL\"] = \"2\"\n",
        "os.environ[\"NCCL_DEBUG\"] = \"WARN\""
      ],
      "execution_count": null,
      "outputs": []
    },
    {
      "cell_type": "markdown",
      "metadata": {
        "id": "qpiO1h0R4xAT",
        "colab_type": "text"
      },
      "source": [
        "Add **Matplotlib** plotting library and **Numpy** maths library\n"
      ]
    },
    {
      "cell_type": "code",
      "metadata": {
        "id": "z-hh1kMn477w",
        "colab_type": "code",
        "colab": {}
      },
      "source": [
        "import matplotlib as mpl\n",
        "import matplotlib.pyplot as plt\n",
        "\n",
        "import numpy as np\n"
      ],
      "execution_count": null,
      "outputs": []
    },
    {
      "cell_type": "markdown",
      "metadata": {
        "id": "wq1XfpXX6H60",
        "colab_type": "text"
      },
      "source": [
        "Add the **time** library so we can time code"
      ]
    },
    {
      "cell_type": "code",
      "metadata": {
        "id": "Eg8ca0jx6FaK",
        "colab_type": "code",
        "colab": {}
      },
      "source": [
        "import time\n"
      ],
      "execution_count": null,
      "outputs": []
    },
    {
      "cell_type": "markdown",
      "metadata": {
        "id": "iDwgvdet5LHJ",
        "colab_type": "text"
      },
      "source": [
        "Add **TensorFlow** - we will use Keras to create the model.\n",
        "\n"
      ]
    },
    {
      "cell_type": "code",
      "metadata": {
        "id": "45yIMMSE5NgF",
        "colab_type": "code",
        "colab": {}
      },
      "source": [
        "import tensorflow as tf\n",
        "from tensorflow.keras.models import Sequential\n",
        "from tensorflow.keras.layers import Dense\n",
        "from tensorflow.keras.activations import elu"
      ],
      "execution_count": null,
      "outputs": []
    },
    {
      "cell_type": "markdown",
      "metadata": {
        "id": "H1Ycj4R0Ap1m",
        "colab_type": "text"
      },
      "source": [
        "**Set the key program parameters**\n",
        "\n",
        "1. Set the **X range** (xmin and xmax) for the function and the **range for predictions** (x_pred_min and x_pred_max) which includes **extrapolation** beyond the range used to fit the model (xmin and xmax). Set the **number of predictions** over the range (num_pred)."
      ]
    },
    {
      "cell_type": "code",
      "metadata": {
        "id": "h9EwC1jLA0d1",
        "colab_type": "code",
        "colab": {}
      },
      "source": [
        "xmin = -10.\n",
        "xmax =  10.\n",
        "\n",
        "x_pred_min = -20.  # extrapolate beyond xmin\n",
        "x_pred_max =  20.  # extrapolate beyond xmax\n",
        "num_pred   = 100"
      ],
      "execution_count": null,
      "outputs": []
    },
    {
      "cell_type": "markdown",
      "metadata": {
        "id": "wt7LJJKCBbC-",
        "colab_type": "text"
      },
      "source": [
        "2. **Number of data points** between X min and max. This number will define the number of data points with which to fit the model ie an epoch. We also set the **batch size** and the **number of epochs**. The batch size must be smaller than number of points (the epoch).\n",
        "\n"
      ]
    },
    {
      "cell_type": "code",
      "metadata": {
        "id": "Nr1SRA7eCCzC",
        "colab_type": "code",
        "colab": {}
      },
      "source": [
        "num_points = 50000  # this is the total data size for model fitting - an Epoch\n",
        "batch_size = 500\n",
        "num_epochs = 50\n"
      ],
      "execution_count": null,
      "outputs": []
    },
    {
      "cell_type": "markdown",
      "metadata": {
        "id": "nIsI6Vj1CgkK",
        "colab_type": "text"
      },
      "source": [
        "3. Set the **activation** to use in each layer of the model."
      ]
    },
    {
      "cell_type": "code",
      "metadata": {
        "id": "eH7x2IKlCk4d",
        "colab_type": "code",
        "colab": {}
      },
      "source": [
        "act_num = 4     # see below\n",
        "\n",
        "if act_num   == 0:\n",
        "  activation = 'linear'\n",
        "\n",
        "elif act_num == 1:\n",
        "  activation = 'relu'\n",
        "\n",
        "elif act_num == 2:\n",
        "  activation = 'tanh'\n",
        "\n",
        "elif act_num == 3:\n",
        "  activation = 'sigmoid'\n",
        "\n",
        "elif act_num == 4:\n",
        "  activation = 'swish'\n",
        "\n",
        "elif act_num == 5:\n",
        "  activation = 'elu'\n",
        "\n",
        "elif act_num == 6:\n",
        "  activation = lambda xv: elu(xv, alpha=1.2)"
      ],
      "execution_count": null,
      "outputs": []
    },
    {
      "cell_type": "markdown",
      "metadata": {
        "id": "h6dEzgyn5dgj",
        "colab_type": "text"
      },
      "source": [
        "4. Select a **simple function** with which to train a model. First generate a sequence of random uniformly spaced x values and then calulate the function f(x)."
      ]
    },
    {
      "cell_type": "code",
      "metadata": {
        "id": "ediZRet15Qxc",
        "colab_type": "code",
        "colab": {}
      },
      "source": [
        "num_func = 2  # see below for definitions\n",
        "\n",
        "x = np.random.uniform(low = xmin, high = xmax, size=(num_points,))\n",
        "y = np.zeros(x.shape[0])\n",
        "\n",
        "def my_fun (x, num_func):\n",
        "\n",
        "  if num_func == 0:\n",
        "    y = x      # simple constant function \n",
        "\n",
        "  elif num_func == 1:\n",
        "    y = 5.*x + 1.    # simple linear function\n",
        "\n",
        "  elif num_func == 2:\n",
        "    y = x**2   # x square function  \n",
        "\n",
        "  elif num_func == 3:\n",
        "    y = 0.01*x**3 - 0.1*x**2 + 2*x + 1   # quadratic function  \n",
        "\n",
        "  elif num_func == 4: \n",
        "    y = np.sin(x)  # sine function\n",
        " \n",
        "  elif num_func == 5:\n",
        "    y = np.sin(x) + np.sin(2*x) + np.sin(0.5*x)  # mixture of sine functions\n",
        "\n",
        "  elif num_func == 6:\n",
        "    y = np.sin(x) # mixture of sine functions\n",
        "    scale = 0.\n",
        "    for i in range (40):\n",
        "      scale = i/10.\n",
        "      y = y + np.sin(scale*x)\n",
        "\n",
        "  return y  \n",
        "\n",
        "y = my_fun (x, num_func)"
      ],
      "execution_count": null,
      "outputs": []
    },
    {
      "cell_type": "markdown",
      "metadata": {
        "id": "T7z5AFXU5o8u",
        "colab_type": "text"
      },
      "source": [
        "5. **Select the number of layers** in the model, then define and compile the model."
      ]
    },
    {
      "cell_type": "code",
      "metadata": {
        "id": "ttJwxJ1o5qey",
        "colab_type": "code",
        "colab": {}
      },
      "source": [
        "num_layers = 2      # in addition to input and output layer\n",
        "hidden_units = 64   # base number of hidden units\n",
        "scale_fac = 1       # increase the number of hidden units per layer\n",
        "\n",
        "model = Sequential()\n",
        "\n",
        "model.add(Dense(hidden_units, input_dim=1, activation=activation))\n",
        "\n",
        "if num_layers > 0:\n",
        "  scale = scale_fac\n",
        "  for i in range (num_layers):\n",
        "    model.add(Dense(hidden_units*scale,  activation=activation))\n",
        "    scale = scale * scale_fac\n",
        "\n",
        "model.add(Dense(1,activation='linear'))\n",
        "\n",
        "model.compile(loss='mse', optimizer='adam')"
      ],
      "execution_count": null,
      "outputs": []
    },
    {
      "cell_type": "markdown",
      "metadata": {
        "id": "5nqZ5pet5xWl",
        "colab_type": "text"
      },
      "source": [
        "**Print a summary of the model**"
      ]
    },
    {
      "cell_type": "code",
      "metadata": {
        "id": "Jn2IQHMu5yjG",
        "colab_type": "code",
        "colab": {}
      },
      "source": [
        "model.summary()"
      ],
      "execution_count": null,
      "outputs": []
    },
    {
      "cell_type": "markdown",
      "metadata": {
        "id": "Hx9n6uEW51q6",
        "colab_type": "text"
      },
      "source": [
        "**Time the Model fit and save the history**"
      ]
    },
    {
      "cell_type": "code",
      "metadata": {
        "id": "IVhU1dcH57FZ",
        "colab_type": "code",
        "colab": {}
      },
      "source": [
        "t0 = time.time()\n",
        "\n",
        "history = model.fit(x, y, validation_split=0.20, epochs=num_epochs, batch_size=batch_size)\n",
        "\n",
        "elapsed_time = time.time() - t0\n",
        "print (' Model Train Elapsed Time (sec) = ', elapsed_time)\n"
      ],
      "execution_count": null,
      "outputs": []
    },
    {
      "cell_type": "markdown",
      "metadata": {
        "id": "rXCFmSR565me",
        "colab_type": "text"
      },
      "source": [
        "**Plot the train and test model history**"
      ]
    },
    {
      "cell_type": "code",
      "metadata": {
        "id": "ffGsGKYfJFF-",
        "colab_type": "code",
        "colab": {}
      },
      "source": [
        "plt.rcParams['figure.figsize'] = [10, 10]\n",
        "plt.plot(history.history['loss'])\n",
        "plt.plot(history.history['val_loss'])\n",
        "plt.title('Model loss')\n",
        "plt.ylabel('Loss')\n",
        "plt.xlabel('Epoch')\n",
        "plt.legend(['Train', 'Test'], loc='upper right')\n",
        "plt.show()"
      ],
      "execution_count": null,
      "outputs": []
    },
    {
      "cell_type": "markdown",
      "metadata": {
        "id": "lBopkB-Z6hO_",
        "colab_type": "text"
      },
      "source": [
        "**Generate a series of predictions** using the model and compare with actual values based on evaluation of the function.\n",
        "We also print predicted vs actual values and calculate the mean squared error."
      ]
    },
    {
      "cell_type": "code",
      "metadata": {
        "id": "yn0nkEGw6idx",
        "colab_type": "code",
        "colab": {}
      },
      "source": [
        "x_pred = np.linspace(x_pred_min, x_pred_max, num_pred)\n",
        "\n",
        "y_pred = np.zeros(x_pred.shape[0])\n",
        "y_pred = my_fun (x_pred, num_func)   # actual function values\n",
        "                \n",
        "pred = model.predict(x_pred)   # ML model predictions\n",
        "\n",
        "sum = 0.\n",
        "for i in range(len(y_pred)):\n",
        "  sum = sum + (y_pred[i]-pred[i])**2.\n",
        "  print(' Predicted = ', pred[i],' Actual = ', y_pred[i], 'Difference = ', pred[i]-y_pred[i])\n",
        "\n",
        "sum = sum/len(y_pred)\n",
        "print (' MSE = ', sum)\n"
      ],
      "execution_count": null,
      "outputs": []
    },
    {
      "cell_type": "markdown",
      "metadata": {
        "id": "QKjbYc4L8MK5",
        "colab_type": "text"
      },
      "source": [
        "**Plot the function and the corresponding ML Model predictions**"
      ]
    },
    {
      "cell_type": "code",
      "metadata": {
        "id": "F32bmjcP8Ofs",
        "colab_type": "code",
        "colab": {}
      },
      "source": [
        "plt.rcParams['figure.figsize'] = [10, 10]\n",
        "plt.plot(x_pred,y_pred,label='Actual Function')\n",
        "plt.plot(x_pred,pred,label='ML Model Fit')\n",
        "plt.xlabel('X')\n",
        "plt.ylabel('F(X)')\n",
        "plt.legend()\n",
        "plt.grid(True)\n",
        "plt.show()"
      ],
      "execution_count": null,
      "outputs": []
    }
  ]
}